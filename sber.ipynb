{
 "cells": [
  {
   "cell_type": "code",
   "execution_count": 2,
   "metadata": {},
   "outputs": [],
   "source": [
    "import numpy as np\n",
    "import pandas as pd\n",
    "from datetime import datetime\n",
    "from prophet import Prophet\n",
    "from sklearn.metrics import mean_absolute_error"
   ]
  },
  {
   "cell_type": "code",
   "execution_count": 3,
   "metadata": {},
   "outputs": [
    {
     "data": {
      "text/html": [
       "<div>\n",
       "<style scoped>\n",
       "    .dataframe tbody tr th:only-of-type {\n",
       "        vertical-align: middle;\n",
       "    }\n",
       "\n",
       "    .dataframe tbody tr th {\n",
       "        vertical-align: top;\n",
       "    }\n",
       "\n",
       "    .dataframe thead th {\n",
       "        text-align: right;\n",
       "    }\n",
       "</style>\n",
       "<table border=\"1\" class=\"dataframe\">\n",
       "  <thead>\n",
       "    <tr style=\"text-align: right;\">\n",
       "      <th></th>\n",
       "      <th>ds</th>\n",
       "      <th>y</th>\n",
       "    </tr>\n",
       "  </thead>\n",
       "  <tbody>\n",
       "    <tr>\n",
       "      <th>0</th>\n",
       "      <td>30.12.2013</td>\n",
       "      <td>3457625638</td>\n",
       "    </tr>\n",
       "    <tr>\n",
       "      <th>1</th>\n",
       "      <td>31.12.2013</td>\n",
       "      <td>3417092149</td>\n",
       "    </tr>\n",
       "    <tr>\n",
       "      <th>2</th>\n",
       "      <td>01.01.2014</td>\n",
       "      <td>3417092149</td>\n",
       "    </tr>\n",
       "    <tr>\n",
       "      <th>3</th>\n",
       "      <td>02.01.2014</td>\n",
       "      <td>3417092149</td>\n",
       "    </tr>\n",
       "    <tr>\n",
       "      <th>4</th>\n",
       "      <td>03.01.2014</td>\n",
       "      <td>3417092149</td>\n",
       "    </tr>\n",
       "    <tr>\n",
       "      <th>...</th>\n",
       "      <td>...</td>\n",
       "      <td>...</td>\n",
       "    </tr>\n",
       "    <tr>\n",
       "      <th>2106</th>\n",
       "      <td>06.10.2019</td>\n",
       "      <td>64630140507</td>\n",
       "    </tr>\n",
       "    <tr>\n",
       "      <th>2107</th>\n",
       "      <td>07.10.2019</td>\n",
       "      <td>66115288637</td>\n",
       "    </tr>\n",
       "    <tr>\n",
       "      <th>2108</th>\n",
       "      <td>08.10.2019</td>\n",
       "      <td>68424049766</td>\n",
       "    </tr>\n",
       "    <tr>\n",
       "      <th>2109</th>\n",
       "      <td>09.10.2019</td>\n",
       "      <td>72492897583</td>\n",
       "    </tr>\n",
       "    <tr>\n",
       "      <th>2110</th>\n",
       "      <td>10.10.2019</td>\n",
       "      <td>72307860851</td>\n",
       "    </tr>\n",
       "  </tbody>\n",
       "</table>\n",
       "<p>2111 rows × 2 columns</p>\n",
       "</div>"
      ],
      "text/plain": [
       "              ds            y\n",
       "0     30.12.2013   3457625638\n",
       "1     31.12.2013   3417092149\n",
       "2     01.01.2014   3417092149\n",
       "3     02.01.2014   3417092149\n",
       "4     03.01.2014   3417092149\n",
       "...          ...          ...\n",
       "2106  06.10.2019  64630140507\n",
       "2107  07.10.2019  66115288637\n",
       "2108  08.10.2019  68424049766\n",
       "2109  09.10.2019  72492897583\n",
       "2110  10.10.2019  72307860851\n",
       "\n",
       "[2111 rows x 2 columns]"
      ]
     },
     "execution_count": 3,
     "metadata": {},
     "output_type": "execute_result"
    }
   ],
   "source": [
    "data = pd.read_csv('data.csv', sep=';')\n",
    "data = data.rename(columns={'REPORTDATE': 'ds', 'VALUE': 'y'})\n",
    "data"
   ]
  },
  {
   "cell_type": "markdown",
   "metadata": {},
   "source": [
    "## Prophet model "
   ]
  },
  {
   "cell_type": "code",
   "execution_count": 4,
   "metadata": {},
   "outputs": [
    {
     "data": {
      "text/html": [
       "<div>\n",
       "<style scoped>\n",
       "    .dataframe tbody tr th:only-of-type {\n",
       "        vertical-align: middle;\n",
       "    }\n",
       "\n",
       "    .dataframe tbody tr th {\n",
       "        vertical-align: top;\n",
       "    }\n",
       "\n",
       "    .dataframe thead th {\n",
       "        text-align: right;\n",
       "    }\n",
       "</style>\n",
       "<table border=\"1\" class=\"dataframe\">\n",
       "  <thead>\n",
       "    <tr style=\"text-align: right;\">\n",
       "      <th></th>\n",
       "      <th>ds</th>\n",
       "      <th>y</th>\n",
       "    </tr>\n",
       "  </thead>\n",
       "  <tbody>\n",
       "    <tr>\n",
       "      <th>0</th>\n",
       "      <td>2019-10-10</td>\n",
       "      <td>3457625638</td>\n",
       "    </tr>\n",
       "    <tr>\n",
       "      <th>1</th>\n",
       "      <td>2019-10-10</td>\n",
       "      <td>3417092149</td>\n",
       "    </tr>\n",
       "    <tr>\n",
       "      <th>2</th>\n",
       "      <td>2019-10-10</td>\n",
       "      <td>3417092149</td>\n",
       "    </tr>\n",
       "    <tr>\n",
       "      <th>3</th>\n",
       "      <td>2019-10-10</td>\n",
       "      <td>3417092149</td>\n",
       "    </tr>\n",
       "    <tr>\n",
       "      <th>4</th>\n",
       "      <td>2019-10-10</td>\n",
       "      <td>3417092149</td>\n",
       "    </tr>\n",
       "  </tbody>\n",
       "</table>\n",
       "</div>"
      ],
      "text/plain": [
       "          ds           y\n",
       "0 2019-10-10  3457625638\n",
       "1 2019-10-10  3417092149\n",
       "2 2019-10-10  3417092149\n",
       "3 2019-10-10  3417092149\n",
       "4 2019-10-10  3417092149"
      ]
     },
     "execution_count": 4,
     "metadata": {},
     "output_type": "execute_result"
    }
   ],
   "source": [
    "prophet_data = pd.DataFrame(data.ds)\n",
    "for i in range(data.shape[0]):\n",
    "    prophet_data['ds'] = datetime.strptime(str(data.ds[i]), '%d.%m.%Y')\n",
    "prophet_data['y'] = data.y\n",
    "prophet_data.head()"
   ]
  },
  {
   "cell_type": "code",
   "execution_count": 14,
   "metadata": {},
   "outputs": [
    {
     "data": {
      "text/plain": [
       "3475401702.5263596"
      ]
     },
     "execution_count": 14,
     "metadata": {},
     "output_type": "execute_result"
    }
   ],
   "source": [
    "model = Prophet(daily_seasonality=True, n_changepoints=10)\n",
    "model.fit(data)\n",
    "future = model.make_future_dataframe(periods=10)\n",
    "forecast = model.predict(future)\n",
    "mean_absolute_error(prophet_data.y, forecast.trend[:data.shape[0]])"
   ]
  },
  {
   "cell_type": "code",
   "execution_count": 49,
   "metadata": {},
   "outputs": [],
   "source": [
    "Prophet?"
   ]
  },
  {
   "cell_type": "markdown",
   "metadata": {},
   "source": [
    "So, let's make model better."
   ]
  },
  {
   "cell_type": "markdown",
   "metadata": {},
   "source": [
    "#### for i in range(1, 50):\n",
    "    model = Prophet(daily_seasonality=True, n_changepoints=i)\n",
    "    model.fit(data)\n",
    "    future = model.make_future_dataframe(periods=10)\n",
    "    forecast = model.predict(future)\n",
    "    print('n_changepoints = {}, MAE = {}'.format(i, mean_absolute_error(prophet_data.y, forecast.trend[:data.shape[0]])))"
   ]
  },
  {
   "cell_type": "markdown",
   "metadata": {},
   "source": [
    "    -----> n_changepoints = 9"
   ]
  },
  {
   "cell_type": "code",
   "execution_count": 33,
   "metadata": {},
   "outputs": [
    {
     "data": {
      "text/plain": [
       "3258918476.9964643"
      ]
     },
     "execution_count": 33,
     "metadata": {},
     "output_type": "execute_result"
    }
   ],
   "source": [
    "model = Prophet(daily_seasonality=True, n_changepoints=8, changepoint_range=.7)\n",
    "model.fit(data)\n",
    "future = model.make_future_dataframe(periods=10)\n",
    "forecast = model.predict(future)\n",
    "mean_absolute_error(prophet_data.y, forecast.trend[:data.shape[0]])"
   ]
  },
  {
   "cell_type": "markdown",
   "metadata": {},
   "source": [
    "-----> changepoint_range=.7"
   ]
  },
  {
   "cell_type": "markdown",
   "metadata": {},
   "source": [
    "k = 0.1\n",
    "#### while (k != 0.9):\n",
    "    for i in range(1, 25):\n",
    "        model = Prophet(daily_seasonality=True, n_changepoints=i)\n",
    "        model.fit(data)\n",
    "        future = model.make_future_dataframe(periods=10)\n",
    "        forecast = model.predict(future)\n",
    "        print('n_changepoints = {}, changepoint_range = {}, MAE = {}'.format(i, k, mean_absolute_error(prophet_data.y, forecast.trend[:data.shape[0]])))\n",
    "    k+=0.1"
   ]
  },
  {
   "cell_type": "markdown",
   "metadata": {},
   "source": [
    "### To control the date - change the 'periods'"
   ]
  },
  {
   "cell_type": "code",
   "execution_count": 63,
   "metadata": {},
   "outputs": [
    {
     "data": {
      "text/plain": [
       "2111    7.246275e+10\n",
       "2112    7.250728e+10\n",
       "2113    7.255182e+10\n",
       "2114    7.259636e+10\n",
       "2115    7.264089e+10\n",
       "2116    7.268543e+10\n",
       "2117    7.272996e+10\n",
       "2118    7.277450e+10\n",
       "2119    7.281904e+10\n",
       "2120    7.286357e+10\n",
       "Name: trend, dtype: float64"
      ]
     },
     "execution_count": 63,
     "metadata": {},
     "output_type": "execute_result"
    }
   ],
   "source": [
    "model = Prophet(daily_seasonality=True, n_changepoints=8, changepoint_range=.7)\n",
    "model.fit(data)\n",
    "future = model.make_future_dataframe(periods=10)\n",
    "forecast = model.predict(future)\n",
    "mean_absolute_error(prophet_data.y, forecast.trend[:data.shape[0]])\n",
    "predictions = forecast.trend[data.shape[0]:]\n",
    "predictions"
   ]
  }
 ],
 "metadata": {
  "kernelspec": {
   "display_name": "Python 3",
   "language": "python",
   "name": "python3"
  },
  "language_info": {
   "codemirror_mode": {
    "name": "ipython",
    "version": 3
   },
   "file_extension": ".py",
   "mimetype": "text/x-python",
   "name": "python",
   "nbconvert_exporter": "python",
   "pygments_lexer": "ipython3",
   "version": "3.8.5"
  }
 },
 "nbformat": 4,
 "nbformat_minor": 4
}
