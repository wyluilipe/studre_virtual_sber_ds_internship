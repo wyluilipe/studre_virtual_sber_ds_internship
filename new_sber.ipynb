{
 "cells": [
  {
   "cell_type": "code",
   "execution_count": 30,
   "metadata": {},
   "outputs": [],
   "source": [
    "import pandas as pd\n",
    "import numpy as np\n",
    "import statistics\n",
    "from datetime import datetime"
   ]
  },
  {
   "cell_type": "code",
   "execution_count": 19,
   "metadata": {},
   "outputs": [
    {
     "data": {
      "text/html": [
       "<div>\n",
       "<style scoped>\n",
       "    .dataframe tbody tr th:only-of-type {\n",
       "        vertical-align: middle;\n",
       "    }\n",
       "\n",
       "    .dataframe tbody tr th {\n",
       "        vertical-align: top;\n",
       "    }\n",
       "\n",
       "    .dataframe thead th {\n",
       "        text-align: right;\n",
       "    }\n",
       "</style>\n",
       "<table border=\"1\" class=\"dataframe\">\n",
       "  <thead>\n",
       "    <tr style=\"text-align: right;\">\n",
       "      <th></th>\n",
       "      <th>REPORTDATE</th>\n",
       "      <th>VALUE</th>\n",
       "    </tr>\n",
       "  </thead>\n",
       "  <tbody>\n",
       "    <tr>\n",
       "      <th>0</th>\n",
       "      <td>2013-12-30</td>\n",
       "      <td>21.963848</td>\n",
       "    </tr>\n",
       "    <tr>\n",
       "      <th>1</th>\n",
       "      <td>2013-12-31</td>\n",
       "      <td>21.952056</td>\n",
       "    </tr>\n",
       "    <tr>\n",
       "      <th>2</th>\n",
       "      <td>2014-01-01</td>\n",
       "      <td>21.952056</td>\n",
       "    </tr>\n",
       "    <tr>\n",
       "      <th>3</th>\n",
       "      <td>2014-01-02</td>\n",
       "      <td>21.952056</td>\n",
       "    </tr>\n",
       "    <tr>\n",
       "      <th>4</th>\n",
       "      <td>2014-01-03</td>\n",
       "      <td>21.952056</td>\n",
       "    </tr>\n",
       "    <tr>\n",
       "      <th>...</th>\n",
       "      <td>...</td>\n",
       "      <td>...</td>\n",
       "    </tr>\n",
       "    <tr>\n",
       "      <th>2106</th>\n",
       "      <td>2019-10-06</td>\n",
       "      <td>24.891947</td>\n",
       "    </tr>\n",
       "    <tr>\n",
       "      <th>2107</th>\n",
       "      <td>2019-10-07</td>\n",
       "      <td>24.914666</td>\n",
       "    </tr>\n",
       "    <tr>\n",
       "      <th>2108</th>\n",
       "      <td>2019-10-08</td>\n",
       "      <td>24.948990</td>\n",
       "    </tr>\n",
       "    <tr>\n",
       "      <th>2109</th>\n",
       "      <td>2019-10-09</td>\n",
       "      <td>25.006754</td>\n",
       "    </tr>\n",
       "    <tr>\n",
       "      <th>2110</th>\n",
       "      <td>2019-10-10</td>\n",
       "      <td>25.004199</td>\n",
       "    </tr>\n",
       "  </tbody>\n",
       "</table>\n",
       "<p>2111 rows × 2 columns</p>\n",
       "</div>"
      ],
      "text/plain": [
       "     REPORTDATE      VALUE\n",
       "0    2013-12-30  21.963848\n",
       "1    2013-12-31  21.952056\n",
       "2    2014-01-01  21.952056\n",
       "3    2014-01-02  21.952056\n",
       "4    2014-01-03  21.952056\n",
       "...         ...        ...\n",
       "2106 2019-10-06  24.891947\n",
       "2107 2019-10-07  24.914666\n",
       "2108 2019-10-08  24.948990\n",
       "2109 2019-10-09  25.006754\n",
       "2110 2019-10-10  25.004199\n",
       "\n",
       "[2111 rows x 2 columns]"
      ]
     },
     "execution_count": 19,
     "metadata": {},
     "output_type": "execute_result"
    }
   ],
   "source": [
    "data = pd.read_csv('data.csv', sep=';', )\n",
    "data.REPORTDATE = pd.to_datetime(data.REPORTDATE, format='%d.%m.%Y')\n",
    "data.VALUE = np.log(data.VALUE.astype(float))\n",
    "data"
   ]
  },
  {
   "cell_type": "code",
   "execution_count": 32,
   "metadata": {},
   "outputs": [
    {
     "data": {
      "text/plain": [
       "0.6780320494425203"
      ]
     },
     "execution_count": 32,
     "metadata": {},
     "output_type": "execute_result"
    }
   ],
   "source": [
    "np.std(data.VALUE)"
   ]
  },
  {
   "cell_type": "code",
   "execution_count": 33,
   "metadata": {},
   "outputs": [
    {
     "ename": "SyntaxError",
     "evalue": "invalid syntax (<ipython-input-33-948cfbf4fecc>, line 25)",
     "output_type": "error",
     "traceback": [
      "\u001b[0;36m  File \u001b[0;32m\"<ipython-input-33-948cfbf4fecc>\"\u001b[0;36m, line \u001b[0;32m25\u001b[0m\n\u001b[0;31m    M2 = M2[!]\u001b[0m\n\u001b[0m            ^\u001b[0m\n\u001b[0;31mSyntaxError\u001b[0m\u001b[0;31m:\u001b[0m invalid syntax\n"
     ]
    }
   ],
   "source": [
    "def StableOnDate(report_date, data):\n",
    "    h = 366\n",
    "    t = report_date + range(-h, 365)\n",
    "    df = data[data.REPORTDATE > report_date - h and data.REPORTDATE <= report_date]\n",
    "    y = df.VALUE\n",
    "    my = statistics.mean(y)\n",
    "    stdy = np.std(y)\n",
    "    y = (y - my) / stdy\n",
    "    x_and_xpredict = range(1, h + 365)\n",
    "    L = len(x_and_xpredict)\n",
    "    def trend(x, y):\n",
    "        return 1 / (x + 365) * 1 / (y + 365)\n",
    "    def seasonRBF(lenn, period):\n",
    "        exp(- (1 / lenn) ** 2 * 2 * (sin(pi * abs(x - y) / period)) ** 2)\n",
    "    def MakeMat(x, fun):\n",
    "        outer(x, x, fun)\n",
    "    Ktrend = MakeMat(x_and_xpredict, trend)\n",
    "    Ktrend = (Ktrend - mean(Ktrend))\n",
    "    Ktrend = Ktrend / max(Ktrend)\n",
    "    def Season(x, f):\n",
    "        return MakeMat(x_and_xpredict, seasonRBF(1, x))\n",
    "    \n",
    "    M = range(1, h)\n",
    "    M2 = range(1, L)\n",
    "    M2 = M2[!]\n",
    "    \n",
    "    def MakeFitandPredict(K, y, q):\n",
    "        K_train = K[M, M]\n",
    "        "
   ]
  },
  {
   "cell_type": "code",
   "execution_count": null,
   "metadata": {},
   "outputs": [],
   "source": []
  }
 ],
 "metadata": {
  "kernelspec": {
   "display_name": "Python 3",
   "language": "python",
   "name": "python3"
  },
  "language_info": {
   "codemirror_mode": {
    "name": "ipython",
    "version": 3
   },
   "file_extension": ".py",
   "mimetype": "text/x-python",
   "name": "python",
   "nbconvert_exporter": "python",
   "pygments_lexer": "ipython3",
   "version": "3.8.5"
  }
 },
 "nbformat": 4,
 "nbformat_minor": 4
}
