{
 "cells": [
  {
   "cell_type": "code",
   "execution_count": 1,
   "metadata": {},
   "outputs": [],
   "source": [
    "import pandas as pd\n",
    "import math\n",
    "from datetime import datetime"
   ]
  },
  {
   "cell_type": "code",
   "execution_count": 17,
   "metadata": {},
   "outputs": [
    {
     "name": "stderr",
     "output_type": "stream",
     "text": [
      "<ipython-input-17-b55e2ae25509>:6: SettingWithCopyWarning: \n",
      "A value is trying to be set on a copy of a slice from a DataFrame\n",
      "\n",
      "See the caveats in the documentation: https://pandas.pydata.org/pandas-docs/stable/user_guide/indexing.html#returning-a-view-versus-a-copy\n",
      "  data.REPORTDATE[i] = datetime.strptime(data.REPORTDATE[i], \"%d.%m.%Y\")\n"
     ]
    },
    {
     "data": {
      "text/html": [
       "<div>\n",
       "<style scoped>\n",
       "    .dataframe tbody tr th:only-of-type {\n",
       "        vertical-align: middle;\n",
       "    }\n",
       "\n",
       "    .dataframe tbody tr th {\n",
       "        vertical-align: top;\n",
       "    }\n",
       "\n",
       "    .dataframe thead th {\n",
       "        text-align: right;\n",
       "    }\n",
       "</style>\n",
       "<table border=\"1\" class=\"dataframe\">\n",
       "  <thead>\n",
       "    <tr style=\"text-align: right;\">\n",
       "      <th></th>\n",
       "      <th>REPORTDATE</th>\n",
       "      <th>VALUE</th>\n",
       "    </tr>\n",
       "  </thead>\n",
       "  <tbody>\n",
       "    <tr>\n",
       "      <th>0</th>\n",
       "      <td>2013-12-30 00:00:00</td>\n",
       "      <td>3457625638</td>\n",
       "    </tr>\n",
       "    <tr>\n",
       "      <th>1</th>\n",
       "      <td>2013-12-31 00:00:00</td>\n",
       "      <td>3417092149</td>\n",
       "    </tr>\n",
       "    <tr>\n",
       "      <th>2</th>\n",
       "      <td>2014-01-01 00:00:00</td>\n",
       "      <td>3417092149</td>\n",
       "    </tr>\n",
       "    <tr>\n",
       "      <th>3</th>\n",
       "      <td>2014-01-02 00:00:00</td>\n",
       "      <td>3417092149</td>\n",
       "    </tr>\n",
       "    <tr>\n",
       "      <th>4</th>\n",
       "      <td>2014-01-03 00:00:00</td>\n",
       "      <td>3417092149</td>\n",
       "    </tr>\n",
       "    <tr>\n",
       "      <th>...</th>\n",
       "      <td>...</td>\n",
       "      <td>...</td>\n",
       "    </tr>\n",
       "    <tr>\n",
       "      <th>2106</th>\n",
       "      <td>2019-10-06 00:00:00</td>\n",
       "      <td>64630140507</td>\n",
       "    </tr>\n",
       "    <tr>\n",
       "      <th>2107</th>\n",
       "      <td>2019-10-07 00:00:00</td>\n",
       "      <td>66115288637</td>\n",
       "    </tr>\n",
       "    <tr>\n",
       "      <th>2108</th>\n",
       "      <td>2019-10-08 00:00:00</td>\n",
       "      <td>68424049766</td>\n",
       "    </tr>\n",
       "    <tr>\n",
       "      <th>2109</th>\n",
       "      <td>2019-10-09 00:00:00</td>\n",
       "      <td>72492897583</td>\n",
       "    </tr>\n",
       "    <tr>\n",
       "      <th>2110</th>\n",
       "      <td>2019-10-10 00:00:00</td>\n",
       "      <td>72307860851</td>\n",
       "    </tr>\n",
       "  </tbody>\n",
       "</table>\n",
       "<p>2111 rows × 2 columns</p>\n",
       "</div>"
      ],
      "text/plain": [
       "               REPORTDATE        VALUE\n",
       "0     2013-12-30 00:00:00   3457625638\n",
       "1     2013-12-31 00:00:00   3417092149\n",
       "2     2014-01-01 00:00:00   3417092149\n",
       "3     2014-01-02 00:00:00   3417092149\n",
       "4     2014-01-03 00:00:00   3417092149\n",
       "...                   ...          ...\n",
       "2106  2019-10-06 00:00:00  64630140507\n",
       "2107  2019-10-07 00:00:00  66115288637\n",
       "2108  2019-10-08 00:00:00  68424049766\n",
       "2109  2019-10-09 00:00:00  72492897583\n",
       "2110  2019-10-10 00:00:00  72307860851\n",
       "\n",
       "[2111 rows x 2 columns]"
      ]
     },
     "execution_count": 17,
     "metadata": {},
     "output_type": "execute_result"
    }
   ],
   "source": [
    "data = pd.read_csv('data.csv', sep=';')\n",
    "#data.REPORTDATE = \n",
    "# Прологорифмируем объемы\n",
    "#data.VALUE = math.log(data.VALUE)\n",
    "for i in range(len(data.REPORTDATE)):\n",
    "    data.REPORTDATE[i] = datetime.strptime(data.REPORTDATE[i], \"%d.%m.%Y\")\n",
    "data"
   ]
  },
  {
   "cell_type": "code",
   "execution_count": null,
   "metadata": {},
   "outputs": [],
   "source": [
    "def StableOnDate(report_date, data):\n",
    "    h = 366\n",
    "    t = report_date + range(-h, 365)\n",
    "    df = data[data.REPORTDATE > report_date - h and data.REPORTDATE <= report_date]\n",
    "    y = df.VALUE\n",
    "    my = mean(y)\n",
    "    sdy = sd(y)\n",
    "    y = (y - my) / sdy\n",
    "    x_and_predict = 1\n",
    "    L = len(x_and_predict)\n",
    "    \n",
    "    def trend(x, y):\n",
    "        return 1/(x + 365) * 1 / (y + 365)\n",
    "    def seasonRBF "
   ]
  }
 ],
 "metadata": {
  "kernelspec": {
   "display_name": "Python 3",
   "language": "python",
   "name": "python3"
  },
  "language_info": {
   "codemirror_mode": {
    "name": "ipython",
    "version": 3
   },
   "file_extension": ".py",
   "mimetype": "text/x-python",
   "name": "python",
   "nbconvert_exporter": "python",
   "pygments_lexer": "ipython3",
   "version": "3.8.5"
  }
 },
 "nbformat": 4,
 "nbformat_minor": 4
}
